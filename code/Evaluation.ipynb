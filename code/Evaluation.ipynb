{
 "cells": [
  {
   "cell_type": "code",
   "execution_count": 1,
   "id": "d04bd628",
   "metadata": {},
   "outputs": [],
   "source": [
    "import pickle\n",
    "import numpy as np\n",
    "import pandas as pd\n",
    "import matplotlib.pyplot as plt\n",
    "import seaborn as sns\n",
    "%matplotlib inline"
   ]
  },
  {
   "cell_type": "markdown",
   "id": "4615173a",
   "metadata": {},
   "source": [
    "## Read Data"
   ]
  },
  {
   "cell_type": "code",
   "execution_count": 2,
   "id": "ec9aa534",
   "metadata": {},
   "outputs": [
    {
     "data": {
      "text/plain": [
       "(392, 5, 1)"
      ]
     },
     "execution_count": 2,
     "metadata": {},
     "output_type": "execute_result"
    }
   ],
   "source": [
    "test = pd.read_csv(\"../data/test.csv\")\n",
    "\n",
    "with open('../data/test_preds.p', 'rb') as f:\n",
    "    preds = pickle.load(f)\n",
    "    \n",
    "preds.shape"
   ]
  },
  {
   "cell_type": "code",
   "execution_count": 3,
   "id": "cf5845a2",
   "metadata": {},
   "outputs": [],
   "source": [
    "preds = np.exp(preds.squeeze()) - 1\n",
    "true = np.exp(np.array(test[test['weekID']>=90]['outcome']).reshape(392,5))-1"
   ]
  },
  {
   "cell_type": "markdown",
   "id": "bed6328a",
   "metadata": {},
   "source": [
    "## Evaluate Frobenius Norm \n",
    "(L2 error over all units and time steps)"
   ]
  },
  {
   "cell_type": "code",
   "execution_count": 4,
   "id": "a6df7ed8",
   "metadata": {},
   "outputs": [
    {
     "data": {
      "text/plain": [
       "1675.8123210721158"
      ]
     },
     "execution_count": 4,
     "metadata": {},
     "output_type": "execute_result"
    }
   ],
   "source": [
    "frob_norm = np.sqrt(np.sum((preds - true)**2)/preds.shape[0]*preds.shape[1])\n",
    "frob_norm"
   ]
  },
  {
   "cell_type": "code",
   "execution_count": 5,
   "id": "11ab58bf",
   "metadata": {},
   "outputs": [
    {
     "name": "stderr",
     "output_type": "stream",
     "text": [
      "/Users/sargunnagpal/miniforge3/lib/python3.9/site-packages/seaborn/distributions.py:2619: FutureWarning: `distplot` is a deprecated function and will be removed in a future version. Please adapt your code to use either `displot` (a figure-level function with similar flexibility) or `histplot` (an axes-level function for histograms).\n",
      "  warnings.warn(msg, FutureWarning)\n",
      "No artists with labels found to put in legend.  Note that artists whose label start with an underscore are ignored when legend() is called with no argument.\n"
     ]
    },
    {
     "data": {
      "image/png": "[encoded data removed]",
      "text/plain": [
       "<Figure size 432x288 with 1 Axes>"
      ]
     },
     "metadata": {
      "needs_background": "light"
     },
     "output_type": "display_data"
    }
   ],
   "source": [
    "residuals = ((preds - true)**2).flatten()\n",
    "\n",
    "plt.figure(figsize=(6,4))\n",
    "sns.distplot(residuals)\n",
    "plt.xlabel(r\"Residual value\", fontsize=14, labelpad=6)\n",
    "plt.ylabel(\"Density\", fontsize=14, labelpad=6)\n",
    "plt.title(\"Distribution of Residuals\", size=17, pad=11)\n",
    "plt.gca().spines[\"top\"].set_visible(False)\n",
    "plt.gca().spines[\"right\"].set_visible(False)\n",
    "plt.legend(frameon=False)\n",
    "plt.show()"
   ]
  },
  {
   "cell_type": "markdown",
   "id": "60464073",
   "metadata": {},
   "source": [
    "Squared error penalizes outliers heavily. The high density at 0 reveals that most predictions are close to the ground truth. However, some predictions are extremely wrong (right tail)."
   ]
  },
  {
   "cell_type": "code",
   "execution_count": 6,
   "id": "c1dd6799",
   "metadata": {},
   "outputs": [
    {
     "data": {
      "text/plain": [
       "9146.311182447189"
      ]
     },
     "execution_count": 6,
     "metadata": {},
     "output_type": "execute_result"
    }
   ],
   "source": [
    "clipped_residuals = residuals[residuals < np.percentile(residuals, 90)]\n",
    "np.sqrt(np.sum(clipped_residuals))"
   ]
  },
  {
   "cell_type": "markdown",
   "id": "80210592",
   "metadata": {},
   "source": [
    "## Error Analysis (To Do)"
   ]
  },
  {
   "cell_type": "code",
   "execution_count": null,
   "id": "56f56afe",
   "metadata": {},
   "outputs": [],
   "source": []
  },
  {
   "cell_type": "markdown",
   "id": "6a43d281",
   "metadata": {},
   "source": [
    "# Inference Data"
   ]
  },
  {
   "cell_type": "markdown",
   "id": "6c2cf32b",
   "metadata": {},
   "source": [
    "### Data submission preparation (ACIC)"
   ]
  },
  {
   "cell_type": "code",
   "execution_count": 7,
   "id": "22d1cd11",
   "metadata": {},
   "outputs": [
    {
     "data": {
      "text/plain": [
       "(23448, 5, 1)"
      ]
     },
     "execution_count": 7,
     "metadata": {},
     "output_type": "execute_result"
    }
   ],
   "source": [
    "with open('../data/infer_preds.p', 'rb') as f:\n",
    "    infer_preds = pickle.load(f)\n",
    "\n",
    "sample_preds = pd.read_csv('../data/sample_predictions.csv')\n",
    "\n",
    "infer_preds.shape"
   ]
  },
  {
   "cell_type": "code",
   "execution_count": 8,
   "id": "74fc2951",
   "metadata": {},
   "outputs": [],
   "source": [
    "units = np.sort(sample_preds['unitID'].unique())\n",
    "pred_df = pd.DataFrame()\n",
    "\n",
    "for i in range(len(units)):\n",
    "    start = 6*i\n",
    "    end = start+6\n",
    "    data = pd.DataFrame(infer_preds[start:end].squeeze().T, \n",
    "                 columns=[0.0, 0.1, 0.2, 0.3, 0.4, 0.5])\n",
    "    data['unitID'] = units[i]\n",
    "    data['step'] = list(range(1,6))\n",
    "    pred_df = pd.concat([pred_df, data], axis=0, ignore_index=True)"
   ]
  },
  {
   "cell_type": "code",
   "execution_count": 9,
   "id": "713167ed",
   "metadata": {},
   "outputs": [
    {
     "data": {
      "text/html": [
       "<div>\n",
       "<style scoped>\n",
       "    .dataframe tbody tr th:only-of-type {\n",
       "        vertical-align: middle;\n",
       "    }\n",
       "\n",
       "    .dataframe tbody tr th {\n",
       "        vertical-align: top;\n",
       "    }\n",
       "\n",
       "    .dataframe thead th {\n",
       "        text-align: right;\n",
       "    }\n",
       "</style>\n",
       "<table border=\"1\" class=\"dataframe\">\n",
       "  <thead>\n",
       "    <tr style=\"text-align: right;\">\n",
       "      <th></th>\n",
       "      <th>0.0</th>\n",
       "      <th>0.1</th>\n",
       "      <th>0.2</th>\n",
       "      <th>0.3</th>\n",
       "      <th>0.4</th>\n",
       "      <th>0.5</th>\n",
       "      <th>unitID</th>\n",
       "      <th>step</th>\n",
       "    </tr>\n",
       "  </thead>\n",
       "  <tbody>\n",
       "    <tr>\n",
       "      <th>0</th>\n",
       "      <td>6.107857</td>\n",
       "      <td>6.107857</td>\n",
       "      <td>6.107857</td>\n",
       "      <td>6.107857</td>\n",
       "      <td>6.107857</td>\n",
       "      <td>6.107857</td>\n",
       "      <td>UNIT01155</td>\n",
       "      <td>1</td>\n",
       "    </tr>\n",
       "    <tr>\n",
       "      <th>1</th>\n",
       "      <td>6.750155</td>\n",
       "      <td>6.616137</td>\n",
       "      <td>6.614773</td>\n",
       "      <td>6.533853</td>\n",
       "      <td>6.510631</td>\n",
       "      <td>6.379734</td>\n",
       "      <td>UNIT01155</td>\n",
       "      <td>2</td>\n",
       "    </tr>\n",
       "    <tr>\n",
       "      <th>2</th>\n",
       "      <td>6.771299</td>\n",
       "      <td>6.455389</td>\n",
       "      <td>6.571820</td>\n",
       "      <td>6.546522</td>\n",
       "      <td>6.422444</td>\n",
       "      <td>6.366980</td>\n",
       "      <td>UNIT01155</td>\n",
       "      <td>3</td>\n",
       "    </tr>\n",
       "    <tr>\n",
       "      <th>3</th>\n",
       "      <td>6.810244</td>\n",
       "      <td>6.401143</td>\n",
       "      <td>6.649715</td>\n",
       "      <td>6.673573</td>\n",
       "      <td>6.542608</td>\n",
       "      <td>6.478425</td>\n",
       "      <td>UNIT01155</td>\n",
       "      <td>4</td>\n",
       "    </tr>\n",
       "    <tr>\n",
       "      <th>4</th>\n",
       "      <td>6.796067</td>\n",
       "      <td>6.501856</td>\n",
       "      <td>6.652357</td>\n",
       "      <td>6.714709</td>\n",
       "      <td>6.585715</td>\n",
       "      <td>6.498622</td>\n",
       "      <td>UNIT01155</td>\n",
       "      <td>5</td>\n",
       "    </tr>\n",
       "    <tr>\n",
       "      <th>...</th>\n",
       "      <td>...</td>\n",
       "      <td>...</td>\n",
       "      <td>...</td>\n",
       "      <td>...</td>\n",
       "      <td>...</td>\n",
       "      <td>...</td>\n",
       "      <td>...</td>\n",
       "      <td>...</td>\n",
       "    </tr>\n",
       "    <tr>\n",
       "      <th>19535</th>\n",
       "      <td>6.427546</td>\n",
       "      <td>6.427546</td>\n",
       "      <td>6.427546</td>\n",
       "      <td>6.427546</td>\n",
       "      <td>6.427546</td>\n",
       "      <td>6.427546</td>\n",
       "      <td>UNIT04556</td>\n",
       "      <td>1</td>\n",
       "    </tr>\n",
       "    <tr>\n",
       "      <th>19536</th>\n",
       "      <td>6.564068</td>\n",
       "      <td>6.421980</td>\n",
       "      <td>6.454550</td>\n",
       "      <td>6.418807</td>\n",
       "      <td>6.468501</td>\n",
       "      <td>6.392307</td>\n",
       "      <td>UNIT04556</td>\n",
       "      <td>2</td>\n",
       "    </tr>\n",
       "    <tr>\n",
       "      <th>19537</th>\n",
       "      <td>6.651685</td>\n",
       "      <td>6.287034</td>\n",
       "      <td>6.498382</td>\n",
       "      <td>6.428701</td>\n",
       "      <td>6.307170</td>\n",
       "      <td>6.294010</td>\n",
       "      <td>UNIT04556</td>\n",
       "      <td>3</td>\n",
       "    </tr>\n",
       "    <tr>\n",
       "      <th>19538</th>\n",
       "      <td>6.609976</td>\n",
       "      <td>6.268872</td>\n",
       "      <td>6.469276</td>\n",
       "      <td>6.580008</td>\n",
       "      <td>6.452143</td>\n",
       "      <td>6.310002</td>\n",
       "      <td>UNIT04556</td>\n",
       "      <td>4</td>\n",
       "    </tr>\n",
       "    <tr>\n",
       "      <th>19539</th>\n",
       "      <td>6.646336</td>\n",
       "      <td>6.330678</td>\n",
       "      <td>6.527719</td>\n",
       "      <td>6.651567</td>\n",
       "      <td>6.544680</td>\n",
       "      <td>6.361637</td>\n",
       "      <td>UNIT04556</td>\n",
       "      <td>5</td>\n",
       "    </tr>\n",
       "  </tbody>\n",
       "</table>\n",
       "<p>19540 rows × 8 columns</p>\n",
       "</div>"
      ],
      "text/plain": [
       "            0.0       0.1       0.2       0.3       0.4       0.5     unitID  \\\n",
       "0      6.107857  6.107857  6.107857  6.107857  6.107857  6.107857  UNIT01155   \n",
       "1      6.750155  6.616137  6.614773  6.533853  6.510631  6.379734  UNIT01155   \n",
       "2      6.771299  6.455389  6.571820  6.546522  6.422444  6.366980  UNIT01155   \n",
       "3      6.810244  6.401143  6.649715  6.673573  6.542608  6.478425  UNIT01155   \n",
       "4      6.796067  6.501856  6.652357  6.714709  6.585715  6.498622  UNIT01155   \n",
       "...         ...       ...       ...       ...       ...       ...        ...   \n",
       "19535  6.427546  6.427546  6.427546  6.427546  6.427546  6.427546  UNIT04556   \n",
       "19536  6.564068  6.421980  6.454550  6.418807  6.468501  6.392307  UNIT04556   \n",
       "19537  6.651685  6.287034  6.498382  6.428701  6.307170  6.294010  UNIT04556   \n",
       "19538  6.609976  6.268872  6.469276  6.580008  6.452143  6.310002  UNIT04556   \n",
       "19539  6.646336  6.330678  6.527719  6.651567  6.544680  6.361637  UNIT04556   \n",
       "\n",
       "       step  \n",
       "0         1  \n",
       "1         2  \n",
       "2         3  \n",
       "3         4  \n",
       "4         5  \n",
       "...     ...  \n",
       "19535     1  \n",
       "19536     2  \n",
       "19537     3  \n",
       "19538     4  \n",
       "19539     5  \n",
       "\n",
       "[19540 rows x 8 columns]"
      ]
     },
     "execution_count": 9,
     "metadata": {},
     "output_type": "execute_result"
    }
   ],
   "source": [
    "pred_df = sample_preds[['unitID', 'step']].merge(pred_df, on=['unitID', 'step'])\n",
    "pred_df = pred_df[[0.0, 0.1, 0.2, 0.3, 0.4, 0.5, 'unitID', 'step']]\n",
    "pred_df"
   ]
  },
  {
   "cell_type": "code",
   "execution_count": 10,
   "id": "a82817ae",
   "metadata": {},
   "outputs": [],
   "source": [
    "pred_df.to_csv(\"../data/acic_submission.csv\", index=False)"
   ]
  }
 ],
 "metadata": {
  "kernelspec": {
   "display_name": "Python 3 (ipykernel)",
   "language": "python",
   "name": "python3"
  },
  "language_info": {
   "codemirror_mode": {
    "name": "ipython",
    "version": 3
   },
   "file_extension": ".py",
   "mimetype": "text/x-python",
   "name": "python",
   "nbconvert_exporter": "python",
   "pygments_lexer": "ipython3",
   "version": "3.9.7"
  }
 },
 "nbformat": 4,
 "nbformat_minor": 5
}
