{
 "cells": [
  {
   "cell_type": "code",
   "execution_count": 1,
   "id": "0ccb1ca9",
   "metadata": {},
   "outputs": [],
   "source": [
    "import pickle\n",
    "import numpy as np\n",
    "import pandas as pd"
   ]
  },
  {
   "cell_type": "code",
   "execution_count": 2,
   "id": "61383935",
   "metadata": {},
   "outputs": [
    {
     "data": {
      "text/html": [
       "<div>\n",
       "<style scoped>\n",
       "    .dataframe tbody tr th:only-of-type {\n",
       "        vertical-align: middle;\n",
       "    }\n",
       "\n",
       "    .dataframe tbody tr th {\n",
       "        vertical-align: top;\n",
       "    }\n",
       "\n",
       "    .dataframe thead th {\n",
       "        text-align: right;\n",
       "    }\n",
       "</style>\n",
       "<table border=\"1\" class=\"dataframe\">\n",
       "  <thead>\n",
       "    <tr style=\"text-align: right;\">\n",
       "      <th></th>\n",
       "      <th>unitID</th>\n",
       "      <th>weekID</th>\n",
       "      <th>outcome</th>\n",
       "      <th>treatment</th>\n",
       "      <th>X1</th>\n",
       "      <th>X2</th>\n",
       "      <th>X3</th>\n",
       "      <th>C1</th>\n",
       "      <th>C2</th>\n",
       "      <th>C3</th>\n",
       "    </tr>\n",
       "  </thead>\n",
       "  <tbody>\n",
       "    <tr>\n",
       "      <th>0</th>\n",
       "      <td>UNIT01155</td>\n",
       "      <td>0</td>\n",
       "      <td>470</td>\n",
       "      <td>0.0</td>\n",
       "      <td>64.225447</td>\n",
       "      <td>88362</td>\n",
       "      <td>0</td>\n",
       "      <td>M</td>\n",
       "      <td>KF7</td>\n",
       "      <td>E_2</td>\n",
       "    </tr>\n",
       "    <tr>\n",
       "      <th>1</th>\n",
       "      <td>UNIT01155</td>\n",
       "      <td>1</td>\n",
       "      <td>534</td>\n",
       "      <td>0.0</td>\n",
       "      <td>64.225447</td>\n",
       "      <td>87892</td>\n",
       "      <td>0</td>\n",
       "      <td>M</td>\n",
       "      <td>KF7</td>\n",
       "      <td>E_2</td>\n",
       "    </tr>\n",
       "    <tr>\n",
       "      <th>2</th>\n",
       "      <td>UNIT01155</td>\n",
       "      <td>2</td>\n",
       "      <td>550</td>\n",
       "      <td>0.0</td>\n",
       "      <td>64.225447</td>\n",
       "      <td>87358</td>\n",
       "      <td>0</td>\n",
       "      <td>M</td>\n",
       "      <td>KF7</td>\n",
       "      <td>E_2</td>\n",
       "    </tr>\n",
       "  </tbody>\n",
       "</table>\n",
       "</div>"
      ],
      "text/plain": [
       "      unitID  weekID  outcome  treatment         X1     X2  X3 C1   C2   C3\n",
       "0  UNIT01155       0      470        0.0  64.225447  88362   0  M  KF7  E_2\n",
       "1  UNIT01155       1      534        0.0  64.225447  87892   0  M  KF7  E_2\n",
       "2  UNIT01155       2      550        0.0  64.225447  87358   0  M  KF7  E_2"
      ]
     },
     "execution_count": 2,
     "metadata": {},
     "output_type": "execute_result"
    }
   ],
   "source": [
    "df = pd.read_csv(\"../data/training_sample.csv\")\n",
    "df.head(3)"
   ]
  },
  {
   "cell_type": "markdown",
   "id": "096c78af",
   "metadata": {},
   "source": [
    "Covariates\n",
    "1. X1 - static cts\n",
    "2. X2 - temporal cts\n",
    "3. X3 - temporal binary\n",
    "4. C1 - static categorical (15 levels)\n",
    "5. C2 - (Discard) static categorical (2495 levels)\n",
    "6. C3 - static categorical (6 levels)"
   ]
  },
  {
   "cell_type": "markdown",
   "id": "045735ba",
   "metadata": {},
   "source": [
    "# Preprocessing"
   ]
  },
  {
   "cell_type": "code",
   "execution_count": 3,
   "id": "8282722a",
   "metadata": {},
   "outputs": [
    {
     "data": {
      "text/html": [
       "<div>\n",
       "<style scoped>\n",
       "    .dataframe tbody tr th:only-of-type {\n",
       "        vertical-align: middle;\n",
       "    }\n",
       "\n",
       "    .dataframe tbody tr th {\n",
       "        vertical-align: top;\n",
       "    }\n",
       "\n",
       "    .dataframe thead th {\n",
       "        text-align: right;\n",
       "    }\n",
       "</style>\n",
       "<table border=\"1\" class=\"dataframe\">\n",
       "  <thead>\n",
       "    <tr style=\"text-align: right;\">\n",
       "      <th></th>\n",
       "      <th>unitID</th>\n",
       "      <th>weekID</th>\n",
       "      <th>outcome</th>\n",
       "      <th>treatment</th>\n",
       "      <th>X1</th>\n",
       "      <th>X2</th>\n",
       "      <th>X3</th>\n",
       "      <th>E_2</th>\n",
       "      <th>E_3</th>\n",
       "      <th>E_4</th>\n",
       "      <th>E_5</th>\n",
       "      <th>E_6</th>\n",
       "    </tr>\n",
       "  </thead>\n",
       "  <tbody>\n",
       "    <tr>\n",
       "      <th>0</th>\n",
       "      <td>UNIT01155</td>\n",
       "      <td>0</td>\n",
       "      <td>6.154858</td>\n",
       "      <td>0.0</td>\n",
       "      <td>4.1624</td>\n",
       "      <td>11.389197</td>\n",
       "      <td>0</td>\n",
       "      <td>1</td>\n",
       "      <td>0</td>\n",
       "      <td>0</td>\n",
       "      <td>0</td>\n",
       "      <td>0</td>\n",
       "    </tr>\n",
       "    <tr>\n",
       "      <th>1</th>\n",
       "      <td>UNIT01155</td>\n",
       "      <td>1</td>\n",
       "      <td>6.282267</td>\n",
       "      <td>0.0</td>\n",
       "      <td>4.1624</td>\n",
       "      <td>11.383864</td>\n",
       "      <td>0</td>\n",
       "      <td>1</td>\n",
       "      <td>0</td>\n",
       "      <td>0</td>\n",
       "      <td>0</td>\n",
       "      <td>0</td>\n",
       "    </tr>\n",
       "    <tr>\n",
       "      <th>2</th>\n",
       "      <td>UNIT01155</td>\n",
       "      <td>2</td>\n",
       "      <td>6.311735</td>\n",
       "      <td>0.0</td>\n",
       "      <td>4.1624</td>\n",
       "      <td>11.377770</td>\n",
       "      <td>0</td>\n",
       "      <td>1</td>\n",
       "      <td>0</td>\n",
       "      <td>0</td>\n",
       "      <td>0</td>\n",
       "      <td>0</td>\n",
       "    </tr>\n",
       "    <tr>\n",
       "      <th>3</th>\n",
       "      <td>UNIT01155</td>\n",
       "      <td>3</td>\n",
       "      <td>6.333280</td>\n",
       "      <td>0.0</td>\n",
       "      <td>4.1624</td>\n",
       "      <td>11.371454</td>\n",
       "      <td>0</td>\n",
       "      <td>1</td>\n",
       "      <td>0</td>\n",
       "      <td>0</td>\n",
       "      <td>0</td>\n",
       "      <td>0</td>\n",
       "    </tr>\n",
       "    <tr>\n",
       "      <th>4</th>\n",
       "      <td>UNIT01155</td>\n",
       "      <td>4</td>\n",
       "      <td>7.393878</td>\n",
       "      <td>0.1</td>\n",
       "      <td>4.1624</td>\n",
       "      <td>11.364959</td>\n",
       "      <td>1</td>\n",
       "      <td>1</td>\n",
       "      <td>0</td>\n",
       "      <td>0</td>\n",
       "      <td>0</td>\n",
       "      <td>0</td>\n",
       "    </tr>\n",
       "  </tbody>\n",
       "</table>\n",
       "</div>"
      ],
      "text/plain": [
       "      unitID  weekID   outcome  treatment      X1         X2  X3  E_2  E_3  \\\n",
       "0  UNIT01155       0  6.154858        0.0  4.1624  11.389197   0    1    0   \n",
       "1  UNIT01155       1  6.282267        0.0  4.1624  11.383864   0    1    0   \n",
       "2  UNIT01155       2  6.311735        0.0  4.1624  11.377770   0    1    0   \n",
       "3  UNIT01155       3  6.333280        0.0  4.1624  11.371454   0    1    0   \n",
       "4  UNIT01155       4  7.393878        0.1  4.1624  11.364959   1    1    0   \n",
       "\n",
       "   E_4  E_5  E_6  \n",
       "0    0    0    0  \n",
       "1    0    0    0  \n",
       "2    0    0    0  \n",
       "3    0    0    0  \n",
       "4    0    0    0  "
      ]
     },
     "execution_count": 3,
     "metadata": {},
     "output_type": "execute_result"
    }
   ],
   "source": [
    "df = pd.concat([df, pd.get_dummies(df[\"C3\"], drop_first=True)], axis=1).drop(\"C3\", axis=1)\n",
    "df['outcome'] = np.log(df['outcome'] + 1) # Deskew and bring to same scale as other covariates\n",
    "df['X1'] = np.log(df['X1'])\n",
    "df['X2'] = np.log(df['X2'])\n",
    "df = df.drop([\"C1\", \"C2\"], axis=1)\n",
    "df.head()"
   ]
  },
  {
   "cell_type": "markdown",
   "id": "7ad7cb46",
   "metadata": {},
   "source": [
    "# Cross-validation split (Train 80 - Val 10 -Test 10)"
   ]
  },
  {
   "cell_type": "code",
   "execution_count": 4,
   "id": "48d47808",
   "metadata": {},
   "outputs": [],
   "source": [
    "# Train - Val - Test split\n",
    "units = df['unitID'].unique()\n",
    "num_units = len(units)\n",
    "cnt_train_units = int(0.8 * num_units)\n",
    "cnt_val_units = int(0.1 * num_units)\n",
    "cnt_test_units = num_units - cnt_train_units - cnt_val_units\n",
    "\n",
    "train_units = np.random.choice(units, size=cnt_train_units, replace=False)\n",
    "val_units = np.random.choice(list(set(units)-set(train_units)), size=cnt_val_units, replace=False)\n",
    "test_units = list(set(units)-set(train_units)-set(val_units))\n",
    "\n",
    "train = df[df['unitID'].isin(train_units)].sort_values(by=['unitID', 'weekID'])\n",
    "val = df[df['unitID'].isin(val_units)].sort_values(by=['unitID', 'weekID'])\n",
    "test = df[df['unitID'].isin(test_units)].sort_values(by=['unitID', 'weekID'])"
   ]
  },
  {
   "cell_type": "code",
   "execution_count": 5,
   "id": "7e3e2a62",
   "metadata": {},
   "outputs": [
    {
     "data": {
      "text/plain": [
       "(3126, 390, 392)"
      ]
     },
     "execution_count": 5,
     "metadata": {},
     "output_type": "execute_result"
    }
   ],
   "source": [
    "len(train_units), len(val_units), len(test_units) # No. of units in each set"
   ]
  },
  {
   "cell_type": "code",
   "execution_count": 6,
   "id": "c24800a3",
   "metadata": {},
   "outputs": [
    {
     "data": {
      "text/plain": [
       "(296970, 37050, 37240)"
      ]
     },
     "execution_count": 6,
     "metadata": {},
     "output_type": "execute_result"
    }
   ],
   "source": [
    "len(train), len(val), len(test) # Size of each set"
   ]
  },
  {
   "cell_type": "markdown",
   "id": "e161baa8",
   "metadata": {},
   "source": [
    "# Data Preparation for CRN"
   ]
  },
  {
   "cell_type": "markdown",
   "id": "40a79e89",
   "metadata": {},
   "source": [
    "## Keys required in Dataset object\n",
    "1. current_covariates\n",
    "2. current_treatments\n",
    "3. previous_treatments\n",
    "4. outputs\n",
    "5. active_entries"
   ]
  },
  {
   "cell_type": "code",
   "execution_count": 7,
   "id": "6d629870",
   "metadata": {},
   "outputs": [],
   "source": [
    "# Modeling parameters\n",
    "num_time_steps = 95\n",
    "num_treatments = 6\n",
    "num_outputs = 1\n",
    "horizon = 1 # Output (horizon:t)\n",
    "offset = 1 # Covariates (1:t-offset)\n",
    "input_features = ['outcome', 'X1', 'X2', 'X3', 'E_2', 'E_3', 'E_4', 'E_5', 'E_6']"
   ]
  },
  {
   "cell_type": "code",
   "execution_count": 8,
   "id": "af5406a7",
   "metadata": {},
   "outputs": [],
   "source": [
    "def process_data_encoder(df):\n",
    "    cnt_units = df['unitID'].nunique()\n",
    "\n",
    "    current_covariates = df[input_features].values.reshape(cnt_units, num_time_steps, len(input_features))\n",
    "    current_covariates = current_covariates[:, :-offset, :] # (num_units, 1-94 timesteps, num_input_features)\n",
    "\n",
    "    current_treatments = pd.get_dummies(\n",
    "                            df['treatment']).values.reshape(cnt_units, num_time_steps, num_treatments)\n",
    "    current_treatments = current_treatments[:, :-offset, :] # (num_units, 1-94, 6). One-Hot-encoded treatments\n",
    "    previous_treatments = current_treatments[:, :-1, :] # (num_units, 1-93, 6)\n",
    "\n",
    "    outputs = df['outcome'].values.reshape(cnt_units, num_time_steps, num_outputs) \n",
    "    outputs = outputs[:, horizon:, :] # (num_units, 2-95 timesteps, 1)\n",
    "\n",
    "    active_entries = np.ones((cnt_train_units, num_time_steps, 1)) # Each unit has data for all 95 time steps\n",
    "    \n",
    "    data = {\"current_covariates\": current_covariates, \n",
    "            \"current_treatments\": current_treatments,\n",
    "            \"previous_treatments\": previous_treatments,\n",
    "            \"outputs\": outputs,\n",
    "            \"active_entries\": active_entries}\n",
    "    return data"
   ]
  },
  {
   "cell_type": "code",
   "execution_count": 9,
   "id": "5ee01408",
   "metadata": {},
   "outputs": [],
   "source": [
    "train_obj = process_data_encoder(train)\n",
    "val_obj = process_data_encoder(val)\n",
    "test_obj = process_data_encoder(test)"
   ]
  },
  {
   "cell_type": "code",
   "execution_count": 10,
   "id": "c86a125a",
   "metadata": {},
   "outputs": [],
   "source": [
    "# Export pickle files\n",
    "\n",
    "with open('train.p', 'wb') as f:\n",
    "    pickle.dump(train_obj, f, protocol=pickle.HIGHEST_PROTOCOL)\n",
    "    \n",
    "with open('val.p', 'wb') as f:\n",
    "    pickle.dump(val_obj, f, protocol=pickle.HIGHEST_PROTOCOL)\n",
    "    \n",
    "with open('test.p', 'wb') as f:\n",
    "    pickle.dump(test_obj, f, protocol=pickle.HIGHEST_PROTOCOL)"
   ]
  },
  {
   "cell_type": "code",
   "execution_count": 11,
   "id": "072a0c0f",
   "metadata": {},
   "outputs": [],
   "source": [
    "# with open(\"train.p\", \"rb\") as f:\n",
    "#     obj = pickle.load(f)\n",
    "# obj.keys()"
   ]
  }
 ],
 "metadata": {
  "kernelspec": {
   "display_name": "Python 3 (ipykernel)",
   "language": "python",
   "name": "python3"
  },
  "language_info": {
   "codemirror_mode": {
    "name": "ipython",
    "version": 3
   },
   "file_extension": ".py",
   "mimetype": "text/x-python",
   "name": "python",
   "nbconvert_exporter": "python",
   "pygments_lexer": "ipython3",
   "version": "3.9.7"
  }
 },
 "nbformat": 4,
 "nbformat_minor": 5
}
