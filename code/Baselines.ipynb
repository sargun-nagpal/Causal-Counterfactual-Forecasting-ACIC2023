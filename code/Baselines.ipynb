{
 "cells": [
  {
   "cell_type": "code",
   "execution_count": 1,
   "id": "cf9c2516",
   "metadata": {},
   "outputs": [],
   "source": [
    "import warnings\n",
    "import numpy as np\n",
    "import pandas as pd\n",
    "import matplotlib.pyplot as plt\n",
    "import seaborn as sns\n",
    "%matplotlib inline\n",
    "warnings.filterwarnings('ignore')"
   ]
  },
  {
   "cell_type": "code",
   "execution_count": 2,
   "id": "d422654c",
   "metadata": {},
   "outputs": [
    {
     "data": {
      "text/html": [
       "<div>\n",
       "<style scoped>\n",
       "    .dataframe tbody tr th:only-of-type {\n",
       "        vertical-align: middle;\n",
       "    }\n",
       "\n",
       "    .dataframe tbody tr th {\n",
       "        vertical-align: top;\n",
       "    }\n",
       "\n",
       "    .dataframe thead th {\n",
       "        text-align: right;\n",
       "    }\n",
       "</style>\n",
       "<table border=\"1\" class=\"dataframe\">\n",
       "  <thead>\n",
       "    <tr style=\"text-align: right;\">\n",
       "      <th></th>\n",
       "      <th>unitID</th>\n",
       "      <th>weekID</th>\n",
       "      <th>outcome</th>\n",
       "      <th>treatment</th>\n",
       "      <th>X1</th>\n",
       "      <th>X2</th>\n",
       "      <th>X3</th>\n",
       "      <th>E_2</th>\n",
       "      <th>E_3</th>\n",
       "      <th>E_4</th>\n",
       "      <th>E_5</th>\n",
       "      <th>E_6</th>\n",
       "    </tr>\n",
       "  </thead>\n",
       "  <tbody>\n",
       "    <tr>\n",
       "      <th>0</th>\n",
       "      <td>UNIT00053</td>\n",
       "      <td>0</td>\n",
       "      <td>5.758902</td>\n",
       "      <td>0.0</td>\n",
       "      <td>3.843408</td>\n",
       "      <td>10.157897</td>\n",
       "      <td>0</td>\n",
       "      <td>0</td>\n",
       "      <td>0</td>\n",
       "      <td>0</td>\n",
       "      <td>0</td>\n",
       "      <td>0</td>\n",
       "    </tr>\n",
       "    <tr>\n",
       "      <th>1</th>\n",
       "      <td>UNIT00053</td>\n",
       "      <td>1</td>\n",
       "      <td>5.820083</td>\n",
       "      <td>0.0</td>\n",
       "      <td>3.843408</td>\n",
       "      <td>10.145571</td>\n",
       "      <td>0</td>\n",
       "      <td>0</td>\n",
       "      <td>0</td>\n",
       "      <td>0</td>\n",
       "      <td>0</td>\n",
       "      <td>0</td>\n",
       "    </tr>\n",
       "    <tr>\n",
       "      <th>2</th>\n",
       "      <td>UNIT00053</td>\n",
       "      <td>2</td>\n",
       "      <td>5.872118</td>\n",
       "      <td>0.0</td>\n",
       "      <td>3.843408</td>\n",
       "      <td>10.132295</td>\n",
       "      <td>0</td>\n",
       "      <td>0</td>\n",
       "      <td>0</td>\n",
       "      <td>0</td>\n",
       "      <td>0</td>\n",
       "      <td>0</td>\n",
       "    </tr>\n",
       "  </tbody>\n",
       "</table>\n",
       "</div>"
      ],
      "text/plain": [
       "      unitID  weekID   outcome  treatment        X1         X2  X3  E_2  E_3  \\\n",
       "0  UNIT00053       0  5.758902        0.0  3.843408  10.157897   0    0    0   \n",
       "1  UNIT00053       1  5.820083        0.0  3.843408  10.145571   0    0    0   \n",
       "2  UNIT00053       2  5.872118        0.0  3.843408  10.132295   0    0    0   \n",
       "\n",
       "   E_4  E_5  E_6  \n",
       "0    0    0    0  \n",
       "1    0    0    0  \n",
       "2    0    0    0  "
      ]
     },
     "execution_count": 2,
     "metadata": {},
     "output_type": "execute_result"
    }
   ],
   "source": [
    "test = pd.read_csv(\"../data/test.csv\")\n",
    "test.head(3)"
   ]
  },
  {
   "cell_type": "code",
   "execution_count": 3,
   "id": "f2a36900",
   "metadata": {},
   "outputs": [],
   "source": [
    "true = np.array(test[test['weekID']>=90]['outcome']).reshape(392,5)\n",
    "num_preds = true.shape[0]*true.shape[1]"
   ]
  },
  {
   "cell_type": "markdown",
   "id": "8712cf34",
   "metadata": {},
   "source": [
    "# Persistence Forecast"
   ]
  },
  {
   "cell_type": "code",
   "execution_count": 4,
   "id": "d9148c4f",
   "metadata": {},
   "outputs": [
    {
     "data": {
      "text/plain": [
       "array([[0.        , 0.        , 0.        , 0.        , 0.        ],\n",
       "       [5.45958551, 5.45958551, 5.45958551, 5.45958551, 5.45958551],\n",
       "       [5.79301361, 5.79301361, 5.79301361, 5.79301361, 5.79301361],\n",
       "       ...,\n",
       "       [0.        , 0.        , 0.        , 0.        , 0.        ],\n",
       "       [6.0591232 , 6.0591232 , 6.0591232 , 6.0591232 , 6.0591232 ],\n",
       "       [0.        , 0.        , 0.        , 0.        , 0.        ]])"
      ]
     },
     "execution_count": 4,
     "metadata": {},
     "output_type": "execute_result"
    }
   ],
   "source": [
    "persist_baseline = np.repeat(test[test['weekID'] == 90]['outcome'].values.reshape(-1,1), 5, axis=1)\n",
    "persist_baseline"
   ]
  },
  {
   "cell_type": "code",
   "execution_count": 5,
   "id": "313ebeac",
   "metadata": {},
   "outputs": [
    {
     "data": {
      "text/plain": [
       "2.1039326342308766"
      ]
     },
     "execution_count": 5,
     "metadata": {},
     "output_type": "execute_result"
    }
   ],
   "source": [
    "frob_norm = np.sqrt(np.sum((persist_baseline - true)**2)/num_preds)\n",
    "frob_norm"
   ]
  },
  {
   "cell_type": "code",
   "execution_count": 6,
   "id": "e16aea13",
   "metadata": {},
   "outputs": [
    {
     "data": {
      "text/plain": [
       "0.7264557598249053"
      ]
     },
     "execution_count": 6,
     "metadata": {},
     "output_type": "execute_result"
    }
   ],
   "source": [
    "frob_norm_log = np.sqrt(np.sum((np.log(persist_baseline+1) - np.log(true+1))**2)/num_preds)\n",
    "frob_norm_log"
   ]
  },
  {
   "cell_type": "code",
   "execution_count": 9,
   "id": "a7f5fdaf",
   "metadata": {},
   "outputs": [
    {
     "data": {
      "image/png": "[encoded data removed]",
      "text/plain": [
       "<Figure size 432x288 with 1 Axes>"
      ]
     },
     "metadata": {
      "needs_background": "light"
     },
     "output_type": "display_data"
    }
   ],
   "source": [
    "residuals = (true - persist_baseline).flatten()\n",
    "\n",
    "plt.figure(figsize=(6,4))\n",
    "sns.distplot(residuals)\n",
    "plt.xlabel(r\"Residual value\", fontsize=14, labelpad=6)\n",
    "plt.ylabel(\"Density\", fontsize=14, labelpad=6)\n",
    "plt.title(\"Distribution of Residuals\", size=17, pad=11)\n",
    "plt.gca().spines[\"top\"].set_visible(False)\n",
    "plt.gca().spines[\"right\"].set_visible(False)\n",
    "plt.show()"
   ]
  },
  {
   "cell_type": "markdown",
   "id": "ca70f0fe",
   "metadata": {},
   "source": [
    "## Moving Average baseline"
   ]
  },
  {
   "cell_type": "markdown",
   "id": "18763ecb",
   "metadata": {},
   "source": [
    "## ARIMA baseline"
   ]
  },
  {
   "cell_type": "markdown",
   "id": "f8427b8f",
   "metadata": {},
   "source": [
    "## LSTM baseline"
   ]
  }
 ],
 "metadata": {
  "kernelspec": {
   "display_name": "Python 3 (ipykernel)",
   "language": "python",
   "name": "python3"
  },
  "language_info": {
   "codemirror_mode": {
    "name": "ipython",
    "version": 3
   },
   "file_extension": ".py",
   "mimetype": "text/x-python",
   "name": "python",
   "nbconvert_exporter": "python",
   "pygments_lexer": "ipython3",
   "version": "3.9.7"
  }
 },
 "nbformat": 4,
 "nbformat_minor": 5
}
